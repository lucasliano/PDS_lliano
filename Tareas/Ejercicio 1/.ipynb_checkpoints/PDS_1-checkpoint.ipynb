{
 "cells": [
  {
   "cell_type": "code",
   "execution_count": 1,
   "metadata": {},
   "outputs": [
    {
     "data": {
      "text/html": [
       "<style>\n",
       "div.error {\n",
       "    background-color: #fcf2f2;\n",
       "    border-color: #8b0000;\n",
       "    border-left: 10px solid #8b0000;\n",
       "    padding-top: 0.5rem;\n",
       "    padding-bottom: 0.5rem;\n",
       "    padding-left: 2rem;\n",
       "    margin: 0rem;\n",
       "    text-align: center;\n",
       "\n",
       "    }\n",
       "\n",
       "div.warning {\n",
       "    background-color: #fcf2f2;\n",
       "    border-color: #f0ad4e;\n",
       "    border-left: 10px solid #f0ad4e;\n",
       "    padding-top: 0.5rem;\n",
       "    padding-bottom: 0.5rem;\n",
       "    padding-left: 2rem;\n",
       "    margin: 0rem;\n",
       "    text-align: center;\n",
       "\n",
       "    }\n",
       "\n",
       "span.rainbow {\n",
       "    background-image: -webkit-gradient( linear, left top, right top, color-stop(0, #f22), color-stop(0.15, #f2f), color-stop(0.3, #22f), color-stop(0.45, #2ff), color-stop(0.6, #2f2),color-stop(0.75, #2f2), color-stop(0.9, #ff2), color-stop(1, #f22) );\n",
       "    background-image: gradient( linear, left top, right top, color-stop(0, #f22), color-stop(0.15, #f2f), color-stop(0.3, #22f), color-stop(0.45, #2ff), color-stop(0.6, #2f2),color-stop(0.75, #2f2), color-stop(0.9, #ff2), color-stop(1, #f22) );\n",
       "    color:transparent;\n",
       "    -webkit-background-clip: text;\n",
       "    background-clip: text;\n",
       "  }\n",
       "\n",
       "\n",
       ".codebox {\n",
       "    background-color: #34495e;\n",
       "    border-color: #1d1d1d;\n",
       "    border-left: 10px solid #1d1d1d;\n",
       "    padding-top: 0.5rem;\n",
       "    padding-bottom: 0.5rem;\n",
       "    padding-left: 0.5rem;\n",
       "    margin-top: 1rem;\n",
       "    margin-bottom: 1rem;\n",
       "    margin-left: 5rem;\n",
       "    text-align: left;\n",
       "    white-space: pre-line;\n",
       "\n",
       "}\n",
       ".codebox p {\n",
       "    /* Styles in here affect the text of the codebox */\n",
       "    font-family: monospace, monospace;\n",
       "    font-size: 11pt !important;\n",
       "    line-height: 170% !important;\n",
       "    border-left: none;\n",
       "    color: #ecf0f1;\n",
       "    /* You could also put all sorts of styling here, like different font, color, underline, etc. for the code. */\n",
       "}\n",
       "\n",
       "\n",
       "</style>\n"
      ],
      "text/plain": [
       "<IPython.core.display.HTML object>"
      ]
     },
     "execution_count": 1,
     "metadata": {},
     "output_type": "execute_result"
    }
   ],
   "source": [
    "#Ejecutar esto para facherizar el documento.\n",
    "from IPython.core.display import HTML\n",
    "\n",
    "def css_styling():\n",
    "    styles = open(\"./styles/custom.css\", \"r\").read()\n",
    "    return HTML(styles)\n",
    "css_styling()"
   ]
  },
  {
   "cell_type": "markdown",
   "metadata": {},
   "source": [
    "# Consigna\n",
    "\n",
    "En este primer trabajo comenzaremos por diseñar un generador de señales que utilizaremos en las primeras simulaciones que hagamos. La primer tarea consistirá en programar una función que genere señales senoidales y que permita parametrizar:\n",
    "\n",
    "- Amplitud máxima de la senoidal (volts)\n",
    "- Valor medio (volts)\n",
    "- Frecuencia (Hz)\n",
    "- Fase (radianes)\n",
    "- Cantidad de muestras digitalizada por el ADC (adim.)\n",
    "- Frecuencia de muestreo del ADC.\n",
    "\n",
    "Es decir que la función que ustedes armen debería admitir se llamada de la siguiente manera\n",
    "\n",
    "<div class=\"codebox\"><p>tt, xx = mi_funcion_sen( vmax = 1, dc = 0, ff = 1, ph=0, nn = N, fs = fs)</p></div>\n",
    "\n",
    "Recuerden que tanto xx como tt deben ser vectores de Nx1. Puede resultarte útil el módulo de visualización matplotlib.pyplot donde encontrarán todas las funciones de visualización estilo Matlab. Para usarlo:\n",
    "\n",
    "<div class=\"codebox\"><p>from matplotlib.pyplot import \n",
    "    plot(tt, xx)</p></div>\n",
    "    \n",
    "\n",
    "<div class= \"error\">\n",
    "    <strong>CUIDADO</strong>: <span class=\"rainbow\">Esto se va a poner fachero! </span>\n",
    "</div>\n",
    "\n",
    "\n",
    "<div class=\"codebox\"><p><strong>#firstLine</strong>\n",
    "    msg = \"Hello World!\";\n",
    "    print(msg);\n",
    " <strong>#lastLine</strong></p></div>\n",
    " \n",
    " Para usar este código hace falta ejecutar la primer celda, se usa de la siguiente manera:\n",
    " \n",
    "     <div class=\"codebox\"><p><strong>#firstLine</strong>\n",
    "        msg = \"Hello World!\";\n",
    "        print(msg);\n",
    "     <strong>#lastLine</strong></p></div>"
   ]
  },
  {
   "cell_type": "code",
   "execution_count": 4,
   "metadata": {
    "scrolled": true
   },
   "outputs": [],
   "source": [
    "import numpy as np\n",
    "import matplotlib.pyplot as plt\n",
    "from math import *"
   ]
  },
  {
   "cell_type": "code",
   "execution_count": 5,
   "metadata": {},
   "outputs": [],
   "source": [
    "def my_sen(vmax = 1,  freq = 1, dc = 0, phi = 0, N = 64, fs = 100):\n",
    "    Vp = vmax #Volts\n",
    "    wo = 2 * pi * freq #rads/s\n",
    "    Ts = 1 / fs\n",
    "    \n",
    "    t = np.arange(0, N*Ts, Ts)\n",
    "    f = Vp * (np.sin(wo * t + phi)) + dc\n",
    "    \n",
    "    return t,f"
   ]
  },
  {
   "cell_type": "code",
   "execution_count": 6,
   "metadata": {},
   "outputs": [
    {
     "data": {
      "text/plain": [
       "<StemContainer object of 3 artists>"
      ]
     },
     "execution_count": 6,
     "metadata": {},
     "output_type": "execute_result"
    },
    {
     "data": {
      "image/png": "[encoded data removed]",
      "text/plain": [
       "<Figure size 432x288 with 1 Axes>"
      ]
     },
     "metadata": {
      "needs_background": "light"
     },
     "output_type": "display_data"
    }
   ],
   "source": [
    "tt,ff = my_sen(1, 1, 5, pi/4, 64, 100)\n",
    "\n",
    "plt.stem(tt,ff, use_line_collection = True)"
   ]
  }
 ],
 "metadata": {
  "kernelspec": {
   "display_name": "Python 3",
   "language": "python",
   "name": "python3"
  },
  "language_info": {
   "codemirror_mode": {
    "name": "ipython",
    "version": 3
   },
   "file_extension": ".py",
   "mimetype": "text/x-python",
   "name": "python",
   "nbconvert_exporter": "python",
   "pygments_lexer": "ipython3",
   "version": "3.8.3"
  }
 },
 "nbformat": 4,
 "nbformat_minor": 4
}
