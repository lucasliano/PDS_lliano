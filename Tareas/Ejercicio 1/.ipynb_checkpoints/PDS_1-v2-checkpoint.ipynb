{
 "cells": [
  {
   "cell_type": "markdown",
   "metadata": {},
   "source": [
    "# Consigna\n",
    "\n",
    "En este primer trabajo comenzaremos por diseñar un generador de señales que utilizaremos en las primeras simulaciones que hagamos. La primer tarea consistirá en programar una función que genere señales senoidales y que permita parametrizar:\n",
    "\n",
    "- Amplitud máxima de la senoidal (volts)\n",
    "- Valor medio (volts)\n",
    "- Frecuencia (Hz)\n",
    "- Fase (radianes)\n",
    "- Cantidad de muestras digitalizada por el ADC (adim.)\n",
    "- Frecuencia de muestreo del ADC.\n",
    "\n",
    "Es decir que la función que ustedes armen debería admitir se llamada de la siguiente manera\n",
    "\n",
    "    tt, xx = mi_funcion_sen( vmax = 1, dc = 0, ff = 1, ph=0, nn = N, fs = fs)\n",
    "\n",
    "Recuerden que tanto xx como tt deben ser vectores de Nx1. Puede resultarte útil el módulo de visualización matplotlib.pyplot donde encontrarán todas las funciones de visualización estilo Matlab. Para usarlo:\n",
    "\n",
    "    from matplotlib.pyplot import \n",
    "    plot(tt, xx)"
   ]
  },
  {
   "cell_type": "code",
   "execution_count": 5,
   "metadata": {
    "scrolled": true
   },
   "outputs": [],
   "source": [
    "import numpy as np\n",
    "import matplotlib.pyplot as plt\n",
    "from math import *"
   ]
  },
  {
   "cell_type": "code",
   "execution_count": 6,
   "metadata": {},
   "outputs": [],
   "source": [
    "def my_sen(vmax = 1,  freq = 1, dc = 0, phi = 0, N = 64, fs = 100):\n",
    "    Vp = vmax #Volts\n",
    "    wo = 2 * pi * freq #rads/s\n",
    "    Ts = 1 / fs\n",
    "    \n",
    "    t = np.arange(0, N*Ts, Ts)\n",
    "    f = Vp * (np.sin(wo * t + phi)) + dc\n",
    "    \n",
    "    return t,f"
   ]
  },
  {
   "cell_type": "code",
   "execution_count": 7,
   "metadata": {},
   "outputs": [
    {
     "name": "stderr",
     "output_type": "stream",
     "text": [
      "<ipython-input-7-f0b2c8023f44>:7: UserWarning: In Matplotlib 3.3 individual lines on a stem plot will be added as a LineCollection instead of individual lines. This significantly improves the performance of a stem plot. To remove this warning and switch to the new behaviour, set the \"use_line_collection\" keyword argument to True.\n",
      "  plt.stem(tt,ff)\n"
     ]
    },
    {
     "data": {
      "text/plain": [
       "<StemContainer object of 3 artists>"
      ]
     },
     "execution_count": 7,
     "metadata": {},
     "output_type": "execute_result"
    },
    {
     "data": {
      "image/png": "[encoded data removed]",
      "text/plain": [
       "<Figure size 432x288 with 1 Axes>"
      ]
     },
     "metadata": {
      "needs_background": "light"
     },
     "output_type": "display_data"
    }
   ],
   "source": [
    "tt,ff = my_sen(1, 1, 5, pi/4, 64, 100)\n",
    "\n",
    "#Antes:\n",
    "#plt.stem(tt,ff, use_line_collection = True)\n",
    "\n",
    "#Después:\n",
    "plt.stem(tt,ff)\n",
    "\n",
    "#Nota: Al momento de ejecutar esta celda, me tira un error \"<ipython-input-4-3aae8a942b9f>\" que dice \n",
    "#estar asociado al plt.stem() y que recomienda aplicar \"use_line_collection = True\" para mejorar\n",
    "#el rendimiento de la función. Es por ello que en la versión anterior lo había utilizado. \n",
    "#Por lo que me comentabas, puede que el error en los argumentos se deba a ello. "
   ]
  }
 ],
 "metadata": {
  "kernelspec": {
   "display_name": "Python 3",
   "language": "python",
   "name": "python3"
  },
  "language_info": {
   "codemirror_mode": {
    "name": "ipython",
    "version": 3
   },
   "file_extension": ".py",
   "mimetype": "text/x-python",
   "name": "python",
   "nbconvert_exporter": "python",
   "pygments_lexer": "ipython3",
   "version": "3.8.3"
  }
 },
 "nbformat": 4,
 "nbformat_minor": 4
}
