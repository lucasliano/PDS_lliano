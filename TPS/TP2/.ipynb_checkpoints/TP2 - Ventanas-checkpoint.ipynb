{
 "cells": [
  {
   "cell_type": "markdown",
   "metadata": {},
   "source": [
    "## <img src=\"./logo_UTN.svg\" align=\"right\" width=\"150\" /> \n",
    "#### Procesamiento Digital de Señales\n",
    "\n",
    "# Trabajo Práctico 2\n",
    "#### Nombre y Apellido\n",
    "\n",
    "***\n",
    "## Ventanas\n"
   ]
  },
  {
   "cell_type": "markdown",
   "metadata": {},
   "source": [
    "<div class=\"alert alert-block alert-info\">\n",
    "<b>1)</b> Implemente las funciones para generar las siguientes ventanas $w(k)$:\n",
    "\n",
    "</div>"
   ]
  },
  {
   "cell_type": "markdown",
   "metadata": {
    "solution": "shown"
   },
   "source": [
    "+ Bartlett ó triangular\n",
    "+ Hann\n",
    "+ Blackman\n",
    "+ Flat-top\n",
    "\n"
   ]
  },
  {
   "cell_type": "markdown",
   "metadata": {},
   "source": [
    "<div class=\"alert alert-block alert-success\">\n",
    "<b>Ayuda:</b> Puede consultar el capítulo 6.3 del libro de B. Porat para obtener las expresiones analíticas de cada ventana.\n",
    "\n",
    "</div>"
   ]
  },
  {
   "cell_type": "markdown",
   "metadata": {},
   "source": [
    "   a) Para cada ventana grafique $w(k)$ y el módulo de su espectro $ \\lvert W(\\Omega) \\rvert $\n"
   ]
  },
  {
   "cell_type": "markdown",
   "metadata": {},
   "source": [
    "<div class=\"alert alert-block alert-warning\">\n",
    "<img src=\"./ojo.svg\" align=\"left\" width=\"50\" />  Normalice la amplitud máxima de todas las ventanas a 0 dB.\n",
    "</div>"
   ]
  },
  {
   "cell_type": "code",
   "execution_count": 1,
   "metadata": {
    "code_folding": []
   },
   "outputs": [],
   "source": [
    "## Inicialización del Notebook del TP2\n",
    "\n",
    "import numpy as np\n",
    "import matplotlib as mpl\n",
    "import matplotlib.pyplot as plt\n",
    "from pandas import DataFrame\n",
    "from IPython.display import HTML\n",
    "\n",
    "N  = 1000 # muestras\n",
    "fs = 1000 # Hz\n",
    "\n",
    "# Insertar aquí el código para inicializar tu notebook\n",
    "########################################################\n",
    "\"\"\"\n",
    "Created on Sat Oct  3 12:02:39 2020\n",
    "\n",
    "Resumen:\n",
    "\n",
    "    fsampled, ns = ADC(f, t, fs = 2000, bits = 8, PositiveVref = 5, NegativeVref = 0)\n",
    "\n",
    "    La función toma la secuencia f, que supone una señal continua de frecuencia de muestro fs1,\n",
    "    y la ingresa al sistema simulando el paso por un ADC. \n",
    "    De esta manera los campos que pueden ser modificados son las tensiones a las cuales está\n",
    "    expuesta el ADC y la cantidad de bits del mismo. \n",
    "    \n",
    "    De esta forma el ADC por defecto tiene 8 bits, es decir 256 palabras, entre las tensiones 0v y +5v\n",
    "    \n",
    "    La función devuelve los valores de la señal sampleada y la distribución del ruido de cuantización en func del tiempo.\n",
    "@author: LucasLiaño\n",
    "\"\"\"\n",
    "\n",
    "def ADC (f, t, fs = 2000, bits = 8, PositiveVref = 5, NegativeVref = 0):\n",
    "    Tsi = t[1] - t[0]\n",
    "    step = int( (1/fs) / Tsi )     # Si fsi = 1kHz => step = 2\n",
    "    \n",
    "    q = (PositiveVref - NegativeVref) / (2**bits)  # Volts por muestra\n",
    "    #ybins = np.arange(NegativeVref, PositiveVref,q)\n",
    "    \n",
    "    fo = np.zeros(int( np.floor(np.size(f)/step) ))    # Si f tiene 1000 muestras, fo tiene 500 con step 2\n",
    "    index = 0\n",
    "    for each in f[::step]:\n",
    "        fo[index] = each\n",
    "        index = index + 1\n",
    "    \n",
    "    tfinal = np.zeros(int(np.floor(np.size(t)/step) ))    # Si f tiene 1000 muestras, fo tiene 500 con step 2\n",
    "    index = 0\n",
    "    for each in t[::step]:\n",
    "        tfinal[index] = each\n",
    "        index = index + 1\n",
    "    \n",
    "    \n",
    "    # Clippeo pre-muestreo\n",
    "    fclip = np.zeros(np.size(fo))\n",
    "    index = 0\n",
    "    for each in fo:\n",
    "        if each < NegativeVref:\n",
    "            fclip[index] = NegativeVref\n",
    "        elif each > PositiveVref:\n",
    "            fclip[index] = PositiveVref\n",
    "        else:\n",
    "            fclip[index] = fo[index]\n",
    "        index = index + 1\n",
    "    \n",
    "            \n",
    "            \n",
    "    fnorm = fclip * (1/q)       # Lo llevamos al dominio de las muestras en Y\n",
    "    \n",
    "    fsampled = np.rint(fnorm)   # Redondeamos\n",
    "    \n",
    "    ns = fnorm - fsampled       # Calculamos en el dominio de las muestras el ruido de quant.\n",
    "   \n",
    "    nsfinal = ns * q            # Volvemos a llevarlo al dominio de los volts\n",
    "    \n",
    "    ffinal = fsampled * q       # Volvemos a llevarlo al dominio de volts en Y\n",
    "    \n",
    "\n",
    "    fig = plt.figure(1)\n",
    "    ax = fig.add_subplot(1, 1, 1)\n",
    "    ax.hist(ns)\n",
    "    ax.set_xlabel('Valor redondeado')  \n",
    "    ax.set_ylabel('Ocurrencias')  \n",
    "    ax.set_title(\"Histograma del ruido de cuantización\") \n",
    "    \n",
    "    fig, axs = plt.subplots(2,1,True,True)\n",
    "    axs[0].grid()\n",
    "    axs[1].grid()    \n",
    "                  \n",
    "    axs[0].plot(t,f) \n",
    "    #axs[0].set_xlabel('Tiempo [nTs]')  \n",
    "    axs[0].set_ylabel('Amplitud [V]')  \n",
    "    axs[0].set_title(\"Señal original\") \n",
    "                  \n",
    "    axs[1].plot(tfinal,ffinal, color = 'g')\n",
    "    axs[1].set_xlabel('Tiempo [nTs]')  \n",
    "    axs[1].set_ylabel('Amplitud [V]')  \n",
    "    axs[1].set_title(\"Señal muestreada con q = \" + str(q) + \" V/div entre \" + str(NegativeVref) + \"v y \" + str(PositiveVref) +\"v\") \n",
    "    \n",
    "    \n",
    "    \n",
    "    \n",
    "    return tfinal, ffinal, nsfinal\n",
    "\n",
    "\n",
    "#%% Se crea la función DFT\n",
    "\"\"\"\n",
    "Created on Wed Sep 16 01:58:21 2020\n",
    "\n",
    "Resumen:\n",
    "\n",
    "    k, Fk, kk, Fkk = DFT(f, N, plotting = False, nombre = 'f(t)', colorTrazo = 'b', escala='a')\n",
    "    \n",
    "    La función devuelve la transformada discreta de Fourier completa (k, Fk)\n",
    "    y las tranformadas recortadas entre 0 y fs/2 y escaladas. \n",
    "    \n",
    "    Si plotting = True, imprime un gráfico cool :D\n",
    "\n",
    "@author: LucasLiaño\n",
    "\"\"\"\n",
    "\n",
    "\n",
    "def DFT(f, N, W=1, plotting = False, nombre='f(t)', colorTrazo = 'b', escala='a'):\n",
    "    \n",
    "    k = np.arange(0,N).astype(int)      #Calculamos la base temporal discreta\n",
    "\n",
    "    Fk = np.zeros(N).astype(complex)    #Generamos un vector vacio con la salida\n",
    "    \n",
    "    Wkn = np.zeros([k.size,k.size], dtype = complex)    #k va de 0 a N-1 y n lo mismo\n",
    "   \n",
    "    index = 0\n",
    "    for kloop in k:\n",
    "        Wkn[:,kloop] = np.exp( -1j * (2*np.pi/N) * kloop * k)\n",
    "        index += 1\n",
    "    \n",
    "    Fk = np.matmul(Wkn,f)\n",
    "    \n",
    "    Fkk = Fk[:int(N/2)] * (1/N) # Recortamos la señal hasta fs/2 y la escalamos en (1/N)\n",
    "    kk = k[:int(N/2)]          # También recortamos la base temporal\n",
    "    \n",
    "    if (escala == 'a'): # Si queremos que coincida la amplitud \n",
    "        Fkk = Fkk * 2\n",
    "    elif (escala == 'p'): # Si queremos que coincida la potencia en tiempo con la pot en w\n",
    "        Fkk = Fkk * np.sqrt(2)\n",
    "    elif (escala == 'n'): # Sin escala\n",
    "        Fkk = Fkk * 1\n",
    "    \n",
    "    if plotting == True:\n",
    "        \n",
    "        fig, axs = plt.subplots(2,2)\n",
    "                      \n",
    "        axs[0,0].plot(kk*W, np.abs(Fkk), label = nombre, color= colorTrazo)  \n",
    "        axs[0,0].set_xlabel('Frecuencia [k*W]')  \n",
    "        axs[0,0].set_ylabel('Amplitud [V]')  \n",
    "        axs[0,0].set_title(\"Módulo\") \n",
    "        axs[0,0].legend()\n",
    "                      \n",
    "        axs[0,1].plot(kk*W, np.angle(Fkk), label = nombre, color= colorTrazo)  \n",
    "        axs[0,1].set_xlabel('Frecuencia [k*W]')  \n",
    "        axs[0,1].set_ylabel('Amplitud [V]')  \n",
    "        axs[0,1].set_title(\"Fase\") \n",
    "        axs[0,1].legend()\n",
    "        \n",
    "        # axs[1,0].plot(kk*W, np.real(Fkk), label = nombre, color= colorTrazo)  \n",
    "        # axs[1,0].set_xlabel('Frecuencia [k*W]')  \n",
    "        # axs[1,0].set_ylabel('Amplitud [V]')  \n",
    "        # axs[1,0].set_title(\"Parte Real\") \n",
    "        # axs[1,0].legend()\n",
    "        \n",
    "                      \n",
    "        # axs[1,1].plot(kk*W, np.imag(Fkk), label = nombre, color= colorTrazo)  \n",
    "        # axs[1,1].set_xlabel('Frecuencia [k*W]')  \n",
    "        # axs[1,1].set_ylabel('Amplitud [V]')  \n",
    "        # axs[1,1].set_title(\"Parte Imaginaria\") \n",
    "        # axs[1,1].legend()\n",
    "    \n",
    "    return k, Fk, kk, Fkk\n",
    "\n",
    "#%% SignalGenerator\n",
    "\"\"\"\n",
    "Created on Wed Sep 16 02:24:04 2020\n",
    "\n",
    "Resumen:\n",
    "        \n",
    "          t, f = SignalGenerator (sType ='sin',param =(1, 1) ,fs = 1000, N = 1000, optionalParam=(0, 0)):\n",
    "\n",
    "    Esta función retorna una función con base temportal t.\n",
    "\n",
    "@author: LucasLiaño\n",
    "\"\"\"\n",
    "def SignalGenerator (sType ='sin',param =(1, 1) ,fs = 1000, N = 1000, optionalParam=(0, 0)):\n",
    "    Ts = 1/fs\n",
    "    t = np.arange(0, N*Ts, Ts)\n",
    "    if np.size(t) != N:\n",
    "        t = t[:N]\n",
    "    \n",
    "    if sType == 'sin':\n",
    "        # Senoidal (fo=1, Ao=1)\n",
    "        # optionalParam (phi=0, dc=0)\n",
    "        #print(\"Senoidal\")\n",
    "        fo = param[0]\n",
    "        Ao = param[1]\n",
    "        phi = optionalParam[0]\n",
    "        dc = optionalParam[1]\n",
    "        \n",
    "        f = Ao * (np.sin(2 * np.pi * fo * t + phi)) + dc\n",
    "        return t,f\n",
    "        \n",
    "    elif sType == 'n':\n",
    "        # Ruido blanco (u,std)\n",
    "        # optionalParam (none,none)\n",
    "        #print(\"White Noise\")\n",
    "        u = param[0]\n",
    "        std = param[1]\n",
    "        f = np.random.normal(u, std, size=N)\n",
    "        return t, f\n",
    "        \n",
    "        \n",
    "    elif sType == 't':\n",
    "        # Triangular (To, Ao)\n",
    "        # optionalParam (none,none)\n",
    "        #print(\"Triangular\")\n",
    "        To = param[0]\n",
    "        Ao = param[1]\n",
    "        f = Ao/2 * signal.sawtooth(2 * np.pi * 1/To * t) + Ao/2\n",
    "        return t, f\n",
    "        \n",
    "    elif sType == 'sq':\n",
    "        # Cuadrada (To, Ao)\n",
    "        # optionalParam = (none, none)\n",
    "        #print(\"Square\")\n",
    "        To = param[0]\n",
    "        Ao = param[1]\n",
    "        f = Ao/2 * signal.square(2 * np.pi * 1/To *t) + Ao/2\n",
    "        \n",
    "        \n",
    "        return t, f\n",
    "    \n",
    "    else:\n",
    "        raise ValueError(\"El argumento sType debe ser 'sin','n','t' o 'sq'.\")\n",
    "        \n",
    "#%% Creo función para graficar en dB\n",
    "\n",
    "def to_db(f):\n",
    "    fdb = 20 * np.log10(f)\n",
    "    return fdb\n",
    "\n",
    "def to_ndb(f): # Nos lleva todo a veces\n",
    "    fndb = 10**(f/20)\n",
    "    return fndb"
   ]
  },
  {
   "cell_type": "code",
   "execution_count": 2,
   "metadata": {},
   "outputs": [],
   "source": [
    "##########################################\n",
    "# Acá podés generar los gráficos pedidos #\n",
    "##########################################\n"
   ]
  },
  {
   "cell_type": "markdown",
   "metadata": {},
   "source": [
    "b) Construya una tabla en la que figure la anchura normalizada del lóbulo principal  de la ventana, $\\Omega_1$, siendo \n",
    "\n",
    "$$ \\lvert W(\\Omega_1) \\rvert = \\frac{\\sqrt{2}}{2}$$ \n",
    "\n",
    "y el valor de transferencia máxima de los lóbulos secundarios expresado en dB \n",
    "\n",
    "$$ W_2 = \\mathop{max} \\{\\lvert W(\\Omega) \\rvert\\} ,\\space\\space \\forall \\space \\Omega \\geq \\Omega_0 $$\n",
    "\n",
    "siendo $\\Omega_0$ la frecuencia del primer cruce por cero $\\lvert W(\\Omega) \\rvert\\ = 0$ ó la frecuencia límite superior del lóbulo principal. Utilice como norma de frecuencia la frecuencia de Nyquist, de manera que las mediciones de frecuencias sean adimensionales y comparables independientemente de la frecuencia de muestreo."
   ]
  },
  {
   "cell_type": "code",
   "execution_count": 3,
   "metadata": {},
   "outputs": [
    {
     "data": {
      "text/html": [
       "<table border=\"1\" class=\"dataframe\">\n",
       "  <thead>\n",
       "    <tr style=\"text-align: right;\">\n",
       "      <th></th>\n",
       "      <th>$f_1$ (#)</th>\n",
       "      <th>$W_2$ (dB)</th>\n",
       "    </tr>\n",
       "  </thead>\n",
       "  <tbody>\n",
       "    <tr>\n",
       "      <th>Rectangular</th>\n",
       "      <td></td>\n",
       "      <td></td>\n",
       "    </tr>\n",
       "    <tr>\n",
       "      <th>Bartlett</th>\n",
       "      <td></td>\n",
       "      <td></td>\n",
       "    </tr>\n",
       "    <tr>\n",
       "      <th>Hann</th>\n",
       "      <td></td>\n",
       "      <td></td>\n",
       "    </tr>\n",
       "    <tr>\n",
       "      <th>Blackman</th>\n",
       "      <td></td>\n",
       "      <td></td>\n",
       "    </tr>\n",
       "    <tr>\n",
       "      <th>Flat-top</th>\n",
       "      <td></td>\n",
       "      <td></td>\n",
       "    </tr>\n",
       "  </tbody>\n",
       "</table>"
      ],
      "text/plain": [
       "<IPython.core.display.HTML object>"
      ]
     },
     "execution_count": 3,
     "metadata": {},
     "output_type": "execute_result"
    }
   ],
   "source": [
    "\n",
    "#######################################\n",
    "# Tu simulación que genere resultados #\n",
    "#######################################\n",
    "\n",
    "tus_resultados = [ \n",
    "                   ['', ''], # <-- acá debería haber numeritos :)\n",
    "                   ['', ''], # <-- acá debería haber numeritos :)\n",
    "                   ['', ''], # <-- acá debería haber numeritos :)\n",
    "                   ['', ''], # <-- acá debería haber numeritos :)\n",
    "                   ['', ''] # <-- acá debería haber numeritos :)\n",
    "                 ]\n",
    "df = DataFrame(tus_resultados, columns=['$f_1$ (#)', '$W_2$ (dB)'],\n",
    "               index=[  \n",
    "                        'Rectangular',\n",
    "                        'Bartlett',\n",
    "                        'Hann',\n",
    "                        'Blackman',\n",
    "                        'Flat-top'\n",
    "                     ])\n",
    "HTML(df.to_html())\n"
   ]
  },
  {
   "cell_type": "markdown",
   "metadata": {},
   "source": [
    "<div class=\"alert alert-block alert-info\">\n",
    "<b>2)</b> Genere una señal bitonal de las siguientes características\n",
    "</div>"
   ]
  },
  {
   "cell_type": "markdown",
   "metadata": {},
   "source": [
    "\n",
    "  $  x(k) = x_1(k) + x_2(k) $\n",
    "\n",
    "  $  x_1(k) = sen(\\Omega_1·k)$\n",
    "\n",
    "  $  x_2(k) = a_2 · sen(\\Omega_2·k)   $\n",
    "\n",
    "siendo \n",
    "\n",
    "  $\\Omega_1 = \\frac{\\pi}{2}$\n",
    "\n",
    "  $\\Omega_2 = \\Omega_1 + 10·\\frac{2\\pi}{N}$\n",
    "\n",
    "  $a_2 = -40$ dB\n",
    "\n",
    "\n",
    "Responda a las siguientes consignas:"
   ]
  },
  {
   "cell_type": "markdown",
   "metadata": {},
   "source": [
    "<div class=\"alert alert-block alert-info\">\n",
    "<b>2.a)</b>  Calcule el espectro $ \\lvert X(\\Omega) \\rvert $\n",
    "\n",
    "</div>"
   ]
  },
  {
   "cell_type": "code",
   "execution_count": 19,
   "metadata": {},
   "outputs": [
    {
     "data": {
      "text/plain": [
       "<matplotlib.legend.Legend at 0x1ccb4f6d4c0>"
      ]
     },
     "execution_count": 19,
     "metadata": {},
     "output_type": "execute_result"
    },
    {
     "data": {
      "image/png": "[encoded data removed]",
      "text/plain": [
       "<Figure size 432x288 with 1 Axes>"
      ]
     },
     "metadata": {
      "needs_background": "light"
     },
     "output_type": "display_data"
    }
   ],
   "source": [
    "##########################################\n",
    "# Acá podés generar los gráficos pedidos #\n",
    "##########################################\n",
    "W = fs/N\n",
    "\n",
    "\n",
    "w1 = fs/4 # Nótese que hablar de fs/4 que de np.pi / 2\n",
    "w2 = w1 + (10 * W) # W es igual a decir 2pi/N \n",
    "Ao = to_ndb(-40) # Son -40 dB\n",
    "    \n",
    "\n",
    "t, x1 = SignalGenerator('sin',(w1, 1) ,fs, N, optionalParam=(0, 0))\n",
    "t, x2 = SignalGenerator('sin',(w2, Ao) ,fs, N, optionalParam=(0, 0))\n",
    "\n",
    "xf = x1 + x2\n",
    "\n",
    "\n",
    "k, Fk, kk, X1 = DFT(x1, N, W, escala='a')\n",
    "k, Fk, kk, X2 = DFT(x2, N, W, escala='a')\n",
    "k, Fk, kk, Xf = DFT(xf, N, W, escala='a')\n",
    "\n",
    "\n",
    "#%% Plotting\n",
    "\n",
    "fig = plt.figure(1)\n",
    "axs = fig.add_subplot(1, 1, 1)\n",
    "axs.plot(kk, to_db(np.abs(X1)), label='$|X_{1}|$')\n",
    "axs.plot(kk, to_db(np.abs(X2)), label='$|X_{2}|$')\n",
    "axs.plot(kk, to_db(np.abs(Xf)), label='$|X_{F}|$')\n",
    "axs.set_xlabel('Frecuencia [k*W]')  \n",
    "axs.set_ylabel('Amplitud [dB]')  \n",
    "axs.set_title(\"Dominio frecuencial\") \n",
    "axs.grid()\n",
    "axs.legend()\n"
   ]
  },
  {
   "cell_type": "markdown",
   "metadata": {},
   "source": [
    "<div class=\"alert alert-block alert-info\">\n",
    "<b>2.b)</b> Repita a) disminuyendo la amplitud de $x_2$.\n",
    "</div>"
   ]
  },
  {
   "cell_type": "code",
   "execution_count": 20,
   "metadata": {},
   "outputs": [
    {
     "data": {
      "text/plain": [
       "<matplotlib.legend.Legend at 0x1ccb4fe81c0>"
      ]
     },
     "execution_count": 20,
     "metadata": {},
     "output_type": "execute_result"
    },
    {
     "data": {
      "image/png": "[encoded data removed]",
      "text/plain": [
       "<Figure size 432x288 with 1 Axes>"
      ]
     },
     "metadata": {
      "needs_background": "light"
     },
     "output_type": "display_data"
    }
   ],
   "source": [
    "##########################################\n",
    "# Acá podés generar los gráficos pedidos #\n",
    "##########################################\n",
    "W = fs/N\n",
    "\n",
    "\n",
    "w1 = fs/4 # Nótese que hablar de fs/4 que de np.pi / 2\n",
    "w2 = w1 + (10 * W) # W es igual a decir 2pi/N \n",
    "Ao = to_ndb(-280) # Son -40 dB\n",
    "    \n",
    "\n",
    "t, x1 = SignalGenerator('sin',(w1, 1) ,fs, N, optionalParam=(0, 0))\n",
    "t, x2 = SignalGenerator('sin',(w2, Ao) ,fs, N, optionalParam=(0, 0))\n",
    "\n",
    "xf = x1 + x2\n",
    "\n",
    "\n",
    "k, Fk, kk, X1 = DFT(x1, N, W, escala='a')\n",
    "k, Fk, kk, X2 = DFT(x2, N, W, escala='a')\n",
    "k, Fk, kk, Xf = DFT(xf, N, W, escala='a')\n",
    "\n",
    "\n",
    "#%% Plotting\n",
    "\n",
    "fig = plt.figure(1)\n",
    "axs = fig.add_subplot(1, 1, 1)\n",
    "axs.plot(kk, to_db(np.abs(X1)), label='$|X_{1}|$')\n",
    "axs.plot(kk, to_db(np.abs(X2)), label='$|X_{2}|$')\n",
    "axs.plot(kk, to_db(np.abs(Xf)), label='$|X_{F}|$')\n",
    "axs.set_xlabel('Frecuencia [k*W]')  \n",
    "axs.set_ylabel('Amplitud [dB]')  \n",
    "axs.set_title(\"Dominio frecuencial\") \n",
    "axs.grid()\n",
    "axs.legend()\n"
   ]
  },
  {
   "cell_type": "markdown",
   "metadata": {},
   "source": [
    "¿Cuál es el factor de escala mínimo de $x_2$, definido como $a^0_2$, que permite evidenciar su existencia en el espectro de $\\lvert X(\\Omega) \\rvert$ ?"
   ]
  },
  {
   "cell_type": "markdown",
   "metadata": {},
   "source": [
    "<div class=\"alert alert-block alert-warning\">\n",
    "<b>Respuesta:</b> Escriba aquí su respuesta.\n",
    "</div>"
   ]
  },
  {
   "cell_type": "markdown",
   "metadata": {},
   "source": [
    "¿De qué depende poder medir $x_2$?"
   ]
  },
  {
   "cell_type": "markdown",
   "metadata": {},
   "source": [
    "<div class=\"alert alert-block alert-warning\">\n",
    "<b>Respuesta:</b> Escriba aquí su respuesta.\n",
    "</div>"
   ]
  },
  {
   "cell_type": "markdown",
   "metadata": {},
   "source": [
    "Considere ahora que esta señal proviene de un ADC de 16 bits. Incorpore al análisis el correspondiente ruido de cuantización. ¿Cómo afecta esta situación la medición de $x_2$?"
   ]
  },
  {
   "cell_type": "markdown",
   "metadata": {},
   "source": [
    "<div class=\"alert alert-block alert-warning\">\n",
    "<b>Respuesta:</b> Escriba aquí su respuesta.\n",
    "</div>"
   ]
  },
  {
   "cell_type": "code",
   "execution_count": 5,
   "metadata": {},
   "outputs": [],
   "source": [
    "##########################################\n",
    "# Acá podés generar los gráficos pedidos #\n",
    "##########################################\n"
   ]
  },
  {
   "cell_type": "markdown",
   "metadata": {},
   "source": [
    "<div class=\"alert alert-block alert-info\">\n",
    "<b>2.c)</b> Repita a) incrementando la frecuencia de $x_1$ para $\\Omega_1 = \\frac{\\pi}{2} + d_1·\\frac{2\\pi}{N}$ para valores de $d_1 = (0,01; 0.25; 0.5)$. Aumente la amplitud de $a_2$ hasta que se evidencie sobre el leakage y construya una tabla con dicho valor para las 3 situaciones correspondientes a desintonías leve, moderada y máxima.\n",
    "</div>"
   ]
  },
  {
   "cell_type": "code",
   "execution_count": 6,
   "metadata": {
    "scrolled": true
   },
   "outputs": [
    {
     "data": {
      "text/html": [
       "<table border=\"1\" class=\"dataframe\">\n",
       "  <thead>\n",
       "    <tr style=\"text-align: right;\">\n",
       "      <th></th>\n",
       "      <th>$a_2$ (dB)</th>\n",
       "    </tr>\n",
       "  </thead>\n",
       "  <tbody>\n",
       "    <tr>\n",
       "      <th>leve</th>\n",
       "      <td></td>\n",
       "    </tr>\n",
       "    <tr>\n",
       "      <th>moderada</th>\n",
       "      <td></td>\n",
       "    </tr>\n",
       "    <tr>\n",
       "      <th>máxima</th>\n",
       "      <td></td>\n",
       "    </tr>\n",
       "  </tbody>\n",
       "</table>"
      ],
      "text/plain": [
       "<IPython.core.display.HTML object>"
      ]
     },
     "execution_count": 6,
     "metadata": {},
     "output_type": "execute_result"
    }
   ],
   "source": [
    "##########################################\n",
    "# Acá podés generar los gráficos pedidos #\n",
    "##########################################\n",
    "\n",
    "\n",
    "\n",
    "#######################################\n",
    "# Tu simulación que genere resultados #\n",
    "#######################################\n",
    "\n",
    "tus_resultados = [ \n",
    "                   '', # <-- acá debería haber numeritos :)\n",
    "                   '', # <-- acá debería haber numeritos :)\n",
    "                   '' # <-- acá debería haber numeritos :)\n",
    "                 ]\n",
    "df = DataFrame(tus_resultados, columns=['$a_2$ (dB)'],\n",
    "               index=[  \n",
    "                        'leve',\n",
    "                        'moderada',\n",
    "                        'máxima',\n",
    "                     ])\n",
    "HTML(df.to_html())"
   ]
  },
  {
   "cell_type": "markdown",
   "metadata": {},
   "source": [
    "<div class=\"alert alert-block alert-info\">\n",
    "<b>2.d)</b> Evalúe el efecto de utilizar las ventanas implementadas en 1). Complete la tabla comparativa con respecto a la ventana rectangular, respecto a las mediciones $a^0_2$ realizada en 2.b); y $a^1_2$ en 2.c) para el caso de desintonía máxima.\n",
    "</div>"
   ]
  },
  {
   "cell_type": "markdown",
   "metadata": {},
   "source": [
    "Grafique $\\lvert X_w(\\Omega) \\rvert = \\lvert \\mathcal{F}\\{ x(k) · w(k) \\} \\rvert $ para las 4 ventanas de 1)."
   ]
  },
  {
   "cell_type": "code",
   "execution_count": 7,
   "metadata": {},
   "outputs": [],
   "source": [
    "##########################################\n",
    "# Acá podés generar los gráficos pedidos #\n",
    "##########################################\n",
    "\n"
   ]
  },
  {
   "cell_type": "code",
   "execution_count": 8,
   "metadata": {
    "scrolled": true
   },
   "outputs": [
    {
     "data": {
      "text/html": [
       "<table border=\"1\" class=\"dataframe\">\n",
       "  <thead>\n",
       "    <tr style=\"text-align: right;\">\n",
       "      <th></th>\n",
       "      <th>$a^0_2$ (dB)</th>\n",
       "      <th>$a^1_2$ (dB)</th>\n",
       "    </tr>\n",
       "  </thead>\n",
       "  <tbody>\n",
       "    <tr>\n",
       "      <th>Rectangular</th>\n",
       "      <td></td>\n",
       "      <td></td>\n",
       "    </tr>\n",
       "    <tr>\n",
       "      <th>Bartlett</th>\n",
       "      <td></td>\n",
       "      <td></td>\n",
       "    </tr>\n",
       "    <tr>\n",
       "      <th>Hann</th>\n",
       "      <td></td>\n",
       "      <td></td>\n",
       "    </tr>\n",
       "    <tr>\n",
       "      <th>Blackman</th>\n",
       "      <td></td>\n",
       "      <td></td>\n",
       "    </tr>\n",
       "    <tr>\n",
       "      <th>Flat-top</th>\n",
       "      <td></td>\n",
       "      <td></td>\n",
       "    </tr>\n",
       "  </tbody>\n",
       "</table>"
      ],
      "text/plain": [
       "<IPython.core.display.HTML object>"
      ]
     },
     "execution_count": 8,
     "metadata": {},
     "output_type": "execute_result"
    }
   ],
   "source": [
    "\n",
    "#######################################\n",
    "# Tu simulación que genere resultados #\n",
    "#######################################\n",
    "\n",
    "tus_resultados = [ \n",
    "                   ['', ''], # <-- acá debería haber numeritos :)\n",
    "                   ['', ''], # <-- acá debería haber numeritos :)\n",
    "                   ['', ''], # <-- acá debería haber numeritos :)\n",
    "                   ['', ''], # <-- acá debería haber numeritos :)\n",
    "                   ['', ''] # <-- acá debería haber numeritos :)\n",
    "                 ]\n",
    "df = DataFrame(tus_resultados, columns=['$a^0_2$ (dB)','$a^1_2$ (dB)'],\n",
    "               index=[  \n",
    "                        'Rectangular',\n",
    "                        'Bartlett',\n",
    "                        'Hann',\n",
    "                        'Blackman',\n",
    "                        'Flat-top'\n",
    "                     ])\n",
    "HTML(df.to_html())\n"
   ]
  },
  {
   "cell_type": "markdown",
   "metadata": {},
   "source": [
    "<div class=\"alert alert-block alert-info\">\n",
    "<b>2.e)</b> Para las ventanas analizadas en 1), decida cuál sería la más apropiada en el caso que, <b>sin afectar otro parámetro</b>, $\\Omega_2$ pudiera acercarse libremente a $\\Omega_1 = \\frac{\\pi}{2} + 0.5·\\frac{2\\pi}{N}$. Complete la siguiente tabla con la distancia mínima, $\\Omega_0, $ a la que se puede distinguir $x_2$ en $\\lvert X_w(\\Omega) \\rvert$.\n",
    "</div>"
   ]
  },
  {
   "cell_type": "code",
   "execution_count": 9,
   "metadata": {},
   "outputs": [
    {
     "data": {
      "text/html": [
       "<table border=\"1\" class=\"dataframe\">\n",
       "  <thead>\n",
       "    <tr style=\"text-align: right;\">\n",
       "      <th></th>\n",
       "      <th>$\\Omega_0$ (#)</th>\n",
       "    </tr>\n",
       "  </thead>\n",
       "  <tbody>\n",
       "    <tr>\n",
       "      <th>Rectangular</th>\n",
       "      <td></td>\n",
       "    </tr>\n",
       "    <tr>\n",
       "      <th>Bartlett</th>\n",
       "      <td></td>\n",
       "    </tr>\n",
       "    <tr>\n",
       "      <th>Hann</th>\n",
       "      <td></td>\n",
       "    </tr>\n",
       "    <tr>\n",
       "      <th>Blackman</th>\n",
       "      <td></td>\n",
       "    </tr>\n",
       "    <tr>\n",
       "      <th>Flat-top</th>\n",
       "      <td></td>\n",
       "    </tr>\n",
       "  </tbody>\n",
       "</table>"
      ],
      "text/plain": [
       "<IPython.core.display.HTML object>"
      ]
     },
     "execution_count": 9,
     "metadata": {},
     "output_type": "execute_result"
    }
   ],
   "source": [
    "\n",
    "#######################################\n",
    "# Tu simulación que genere resultados #\n",
    "#######################################\n",
    "\n",
    "tus_resultados = [ \n",
    "                   '', # <-- acá debería haber numeritos :)\n",
    "                   '', # <-- acá debería haber numeritos :)\n",
    "                   '', # <-- acá debería haber numeritos :)\n",
    "                   '', # <-- acá debería haber numeritos :)\n",
    "                   '' # <-- acá debería haber numeritos :)\n",
    "                 ]\n",
    "df = DataFrame(tus_resultados, columns=['$\\Omega_0$ (#)'],\n",
    "               index=[  \n",
    "                        'Rectangular',\n",
    "                        'Bartlett',\n",
    "                        'Hann',\n",
    "                        'Blackman',\n",
    "                        'Flat-top'\n",
    "                     ])\n",
    "HTML(df.to_html())\n"
   ]
  },
  {
   "cell_type": "markdown",
   "metadata": {},
   "source": [
    "<div class=\"alert alert-block alert-info\">\n",
    "<b>3)</b> Genere la siguiente señal \n",
    "\n",
    "</div>"
   ]
  },
  {
   "cell_type": "markdown",
   "metadata": {},
   "source": [
    "  $  x(k) = a_0·\\mathop{sen}(\\Omega_1·k)$\n",
    "\n",
    "\n",
    "siendo \n",
    "\n",
    "  $a_0 = 2$\n",
    "\n",
    "  $\\Omega_1 = \\Omega_0 + f_r·\\frac{2\\pi}{N} $\n",
    "\n",
    "  $\\Omega_0 = \\frac{\\pi}{2} $\n",
    "  \n",
    "y la variable aleatoria definida por\n",
    "\n",
    "  $f_r \\sim \\mathcal{U}(-2, \\, 2) $\n",
    "\n",
    "Considere 200 realizaciones para cada experimento requerido en los siguiente incisos.\n"
   ]
  },
  {
   "cell_type": "markdown",
   "metadata": {},
   "source": [
    "<div class=\"alert alert-block alert-info\">\n",
    "<b>3.a)</b> Calcule experimentalmente el sesgo y la varianza del siguiente estimador:\n",
    "</div>"
   ]
  },
  {
   "cell_type": "markdown",
   "metadata": {},
   "source": [
    " \n",
    "  $ \\hat{a_0} = \\lvert X^i_w(\\Omega_0) \\rvert$\n",
    "  \n",
    "siendo\n",
    "\n",
    "  $\\lvert X^i_w(\\Omega) \\rvert = \\lvert \\mathcal{F}\\{ x(k) · w_i(k) \\} \\rvert $ \n",
    "  \n",
    "para la *i*-ésima ventana de las 5 utilizadas en el punto 2).\n",
    "\n",
    "El sesgo y la varianza se definen para este caso como\n",
    "\n",
    "  $ s_a = \\mathop{E}\\{ \\hat{a_0}\\} - a_0  $\n",
    "    \n",
    "  $ v_a = \\mathop{var} \\{ \\hat{a_0} \\} = \\mathop{E}\\{ ( \\hat{a_0} - \\mathop{E} \\{ \\hat{a_0} \\} )^2 \\} $\n",
    "  \n",
    "y pueden aproximarse cuando consideramos los valores esperados como las medias muestrales ($a=a_0$ para simplificar la notación)\n",
    "\n",
    "  $ \\mathop{E}\\{ \\hat{a_0}\\}  = \\hat{\\mu_a} =  \\frac{1}{M} \\sum^{M-1}_{j=0} \\hat{a_{j}} $\n",
    "  \n",
    "  $ s_a = \\hat{\\mu_a} - a  $\n",
    "    \n",
    "  $ v_a = \\frac{1}{M} \\sum^{M-1}_{j=0} (\\hat{a_{j}} - \\hat{\\mu_a})^2 $\n",
    "\n"
   ]
  },
  {
   "cell_type": "markdown",
   "metadata": {},
   "source": [
    "Grafique los histogramas para  $\\lvert X^i_w(\\Omega_0) \\rvert$. "
   ]
  },
  {
   "cell_type": "markdown",
   "metadata": {},
   "source": [
    "<div class=\"alert alert-block alert-danger\">\n",
    "<img src=\"./ojo.svg\" align=\"left\" width=\"50\" />   Cuide que todos los gráficos tengan <b>el mismo rango de valores en X</b> para facilitar la comparación.\n",
    "</div>"
   ]
  },
  {
   "cell_type": "code",
   "execution_count": 10,
   "metadata": {},
   "outputs": [],
   "source": [
    "##########################################\n",
    "# Acá podés generar los gráficos pedidos #\n",
    "##########################################\n",
    "\n"
   ]
  },
  {
   "cell_type": "code",
   "execution_count": 11,
   "metadata": {
    "scrolled": false
   },
   "outputs": [
    {
     "data": {
      "text/html": [
       "<table border=\"1\" class=\"dataframe\">\n",
       "  <thead>\n",
       "    <tr style=\"text-align: right;\">\n",
       "      <th></th>\n",
       "      <th>$s_a$</th>\n",
       "      <th>$v_a$</th>\n",
       "    </tr>\n",
       "  </thead>\n",
       "  <tbody>\n",
       "    <tr>\n",
       "      <th>Rectangular</th>\n",
       "      <td></td>\n",
       "      <td></td>\n",
       "    </tr>\n",
       "    <tr>\n",
       "      <th>Bartlett</th>\n",
       "      <td></td>\n",
       "      <td></td>\n",
       "    </tr>\n",
       "    <tr>\n",
       "      <th>Hann</th>\n",
       "      <td></td>\n",
       "      <td></td>\n",
       "    </tr>\n",
       "    <tr>\n",
       "      <th>Blackman</th>\n",
       "      <td></td>\n",
       "      <td></td>\n",
       "    </tr>\n",
       "    <tr>\n",
       "      <th>Flat-top</th>\n",
       "      <td></td>\n",
       "      <td></td>\n",
       "    </tr>\n",
       "  </tbody>\n",
       "</table>"
      ],
      "text/plain": [
       "<IPython.core.display.HTML object>"
      ]
     },
     "execution_count": 11,
     "metadata": {},
     "output_type": "execute_result"
    }
   ],
   "source": [
    "\n",
    "#######################################\n",
    "# Tu simulación que genere resultados #\n",
    "#######################################\n",
    "\n",
    "tus_resultados = [ \n",
    "                   ['', ''], # <-- acá debería haber numeritos :)\n",
    "                   ['', ''], # <-- acá debería haber numeritos :)\n",
    "                   ['', ''], # <-- acá debería haber numeritos :)\n",
    "                   ['', ''], # <-- acá debería haber numeritos :)\n",
    "                   ['', ''], # <-- acá debería haber numeritos :)\n",
    "                 ]\n",
    "df = DataFrame(tus_resultados, columns=['$s_a$', '$v_a$'],\n",
    "               index=[  \n",
    "                        'Rectangular',\n",
    "                        'Bartlett',\n",
    "                        'Hann',\n",
    "                        'Blackman',\n",
    "                        'Flat-top'\n",
    "                     ])\n",
    "HTML(df.to_html())\n"
   ]
  },
  {
   "cell_type": "markdown",
   "metadata": {},
   "source": [
    "<div class=\"alert alert-block alert-info\">\n",
    "<b>3.b)</b> Repita a) para el siguiente estimador:\n",
    "</div>"
   ]
  },
  {
   "cell_type": "markdown",
   "metadata": {},
   "source": [
    " \n",
    "  $ \\hat{a_1} = \\sqrt{\\frac{1}{5}·\\sum_{j=a}^{b} \\lvert X^i_w(j) \\rvert ^2} $\n",
    "  \n",
    "siendo $ a = \\Omega_0 - 2·\\frac{2\\pi}{N} $ y $ b = \\Omega_0 + 2·\\frac{2\\pi}{N} $\n",
    "\n",
    "para la *i*-ésima ventana de las 5 utilizadas en el punto 2)."
   ]
  },
  {
   "cell_type": "markdown",
   "metadata": {},
   "source": [
    "Grafique los histogramas para  $\\lvert X^i_w(\\Omega_0) \\rvert$. "
   ]
  },
  {
   "cell_type": "markdown",
   "metadata": {},
   "source": [
    "<div class=\"alert alert-block alert-danger\">\n",
    "<img src=\"./ojo.svg\" align=\"left\" width=\"50\" />   Cuide que todos los gráficos tengan <b>el mismo rango de valores en X</b> para facilitar la comparación.\n",
    "</div>"
   ]
  },
  {
   "cell_type": "code",
   "execution_count": 12,
   "metadata": {},
   "outputs": [],
   "source": [
    "##########################################\n",
    "# Acá podés generar los gráficos pedidos #\n",
    "##########################################\n",
    "\n"
   ]
  },
  {
   "cell_type": "code",
   "execution_count": 13,
   "metadata": {
    "scrolled": false
   },
   "outputs": [
    {
     "data": {
      "text/html": [
       "<table border=\"1\" class=\"dataframe\">\n",
       "  <thead>\n",
       "    <tr style=\"text-align: right;\">\n",
       "      <th></th>\n",
       "      <th>$s_a$</th>\n",
       "      <th>$v_a$</th>\n",
       "    </tr>\n",
       "  </thead>\n",
       "  <tbody>\n",
       "    <tr>\n",
       "      <th>Rectangular</th>\n",
       "      <td></td>\n",
       "      <td></td>\n",
       "    </tr>\n",
       "    <tr>\n",
       "      <th>Bartlett</th>\n",
       "      <td></td>\n",
       "      <td></td>\n",
       "    </tr>\n",
       "    <tr>\n",
       "      <th>Hann</th>\n",
       "      <td></td>\n",
       "      <td></td>\n",
       "    </tr>\n",
       "    <tr>\n",
       "      <th>Blackman</th>\n",
       "      <td></td>\n",
       "      <td></td>\n",
       "    </tr>\n",
       "    <tr>\n",
       "      <th>Flat-top</th>\n",
       "      <td></td>\n",
       "      <td></td>\n",
       "    </tr>\n",
       "  </tbody>\n",
       "</table>"
      ],
      "text/plain": [
       "<IPython.core.display.HTML object>"
      ]
     },
     "execution_count": 13,
     "metadata": {},
     "output_type": "execute_result"
    }
   ],
   "source": [
    "\n",
    "#######################################\n",
    "# Tu simulación que genere resultados #\n",
    "#######################################\n",
    "\n",
    "tus_resultados = [ \n",
    "                   ['', ''], # <-- acá debería haber numeritos :)\n",
    "                   ['', ''], # <-- acá debería haber numeritos :)\n",
    "                   ['', ''], # <-- acá debería haber numeritos :)\n",
    "                   ['', ''], # <-- acá debería haber numeritos :)\n",
    "                   ['', ''], # <-- acá debería haber numeritos :)\n",
    "                 ]\n",
    "df = DataFrame(tus_resultados, columns=['$s_a$', '$v_a$'],\n",
    "               index=[  \n",
    "                        'Rectangular',\n",
    "                        'Bartlett',\n",
    "                        'Hann',\n",
    "                        'Blackman',\n",
    "                        'Flat-top'\n",
    "                     ])\n",
    "HTML(df.to_html())\n"
   ]
  }
 ],
 "metadata": {
  "kernelspec": {
   "display_name": "Python 3",
   "language": "python",
   "name": "python3"
  },
  "language_info": {
   "codemirror_mode": {
    "name": "ipython",
    "version": 3
   },
   "file_extension": ".py",
   "mimetype": "text/x-python",
   "name": "python",
   "nbconvert_exporter": "python",
   "pygments_lexer": "ipython3",
   "version": "3.8.3"
  }
 },
 "nbformat": 4,
 "nbformat_minor": 2
}
